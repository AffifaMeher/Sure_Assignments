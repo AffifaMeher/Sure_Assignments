{
 "cells": [
  {
   "cell_type": "code",
   "execution_count": 1,
   "metadata": {},
   "outputs": [
    {
     "name": "stdout",
     "output_type": "stream",
     "text": [
      "3.1622776601683795\n"
     ]
    }
   ],
   "source": [
    "# 1.Calculate Euclidean distance\n",
    "import math\n",
    "def euclidean(x1,y1,x2,y2):\n",
    "    return math.sqrt((x2-x1)**2+(y2-y1)**2)\n",
    "\n",
    "print(euclidean(6,7,5,4))\n"
   ]
  },
  {
   "cell_type": "code",
   "execution_count": 2,
   "metadata": {},
   "outputs": [
    {
     "name": "stdout",
     "output_type": "stream",
     "text": [
      "given string :  123@QWE\n",
      "Reversed string : EWQ@321\n"
     ]
    }
   ],
   "source": [
    "# 2. Reverse User Input for Data Processing\n",
    "def rev(str):\n",
    "    return str[::-1]\n",
    "\n",
    "str = input(\"Enter a String: \")\n",
    "print(\"given string : \",str)\n",
    "print(\"Reversed string :\" ,rev(str))"
   ]
  },
  {
   "cell_type": "code",
   "execution_count": 3,
   "metadata": {},
   "outputs": [
    {
     "name": "stdout",
     "output_type": "stream",
     "text": [
      "[0, 3]\n"
     ]
    }
   ],
   "source": [
    "# 3.Finding indices of Closest Temperatures\n",
    "def closest(nums):\n",
    "    min_diff=float('inf')\n",
    "    closest_idx=[-1,-1]\n",
    "    for i in nums:\n",
    "        for j in range(i+1,len(nums)):\n",
    "            if abs(i-j) < min_diff:\n",
    "                min_diff = abs(i-j)\n",
    "                closest_idx = [nums.index(i),nums.index(j)]\n",
    "    return closest_idx\n",
    "           \n",
    "nums = [1, 7, 9, 2, 10]\n",
    "print(closest(nums))\n"
   ]
  },
  {
   "cell_type": "code",
   "execution_count": 4,
   "metadata": {},
   "outputs": [
    {
     "name": "stdout",
     "output_type": "stream",
     "text": [
      "[1, 11, 3, 5, 4, 4]\n"
     ]
    }
   ],
   "source": [
    "# 4. Strange Sort: Alternating Smallest and Largest\n",
    "def alter_sort(nums):\n",
    "    i = 0\n",
    "    j = len(nums) - 1\n",
    "    alter_list=[]\n",
    "    while(i<=j):\n",
    "        alter_list.append(nums[i])\n",
    "        i += 1\n",
    "        alter_list.append(nums[j])\n",
    "        j -= 1\n",
    "    return alter_list\n",
    "\n",
    "nums = [1, 3, 4, 5, 11]\n",
    "print(alter_sort(nums))"
   ]
  },
  {
   "cell_type": "code",
   "execution_count": 5,
   "metadata": {},
   "outputs": [
    {
     "name": "stdout",
     "output_type": "stream",
     "text": [
      "False\n"
     ]
    }
   ],
   "source": [
    "# 5. Check if a String is Pangram\n",
    "def pangram(str):\n",
    "    alphabet = \"abcdefghijklmnopqrstuvwxyz\"\n",
    "    for char in alphabet:\n",
    "        if char not in str.lower():\n",
    "            return False\n",
    "    return True\n",
    "    \n",
    "\n",
    "str = input()\n",
    "print(pangram(str))"
   ]
  },
  {
   "cell_type": "code",
   "execution_count": null,
   "metadata": {},
   "outputs": [],
   "source": []
  }
 ],
 "metadata": {
  "kernelspec": {
   "display_name": "Python 3",
   "language": "python",
   "name": "python3"
  },
  "language_info": {
   "codemirror_mode": {
    "name": "ipython",
    "version": 3
   },
   "file_extension": ".py",
   "mimetype": "text/x-python",
   "name": "python",
   "nbconvert_exporter": "python",
   "pygments_lexer": "ipython3",
   "version": "3.12.0"
  }
 },
 "nbformat": 4,
 "nbformat_minor": 2
}
